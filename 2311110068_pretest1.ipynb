{
  "cells": [
    {
      "cell_type": "code",
      "execution_count": 3,
      "metadata": {
        "colab": {
          "base_uri": "https://localhost:8080/"
        },
        "id": "aCs3AffJtDek",
        "outputId": "84a91c1e-3542-4300-9c12-22d9c2f2ec0e"
      },
      "outputs": [
        {
          "name": "stdout",
          "output_type": "stream",
          "text": [
            "     Marketing expense  Production expense  Multiplex coverage     Budget  \\\n",
            "0              20.1264               59.62               0.462  36524.125   \n",
            "1              20.5462               69.14               0.531  35668.655   \n",
            "2              20.5458               69.14               0.531  39912.675   \n",
            "3              20.6474               59.36               0.542  38873.890   \n",
            "4              21.3810               59.36               0.542  39701.585   \n",
            "..                 ...                 ...                 ...        ...   \n",
            "501            21.2526               78.86               0.427  36624.115   \n",
            "502            20.9054               78.86               0.427  33996.600   \n",
            "503            21.2152               78.86               0.427  38751.680   \n",
            "504            22.1918               78.86               0.427  37740.670   \n",
            "505            20.9482               78.86               0.427  33496.650   \n",
            "\n",
            "     Movie_length  Lead_ Actor_Rating  Lead_Actress_rating  Director_rating  \\\n",
            "0           138.7               7.825                8.095            7.910   \n",
            "1           152.4               7.505                7.650            7.440   \n",
            "2           134.6               7.485                7.570            7.495   \n",
            "3           119.3               6.895                7.035            6.920   \n",
            "4           127.7               6.920                7.070            6.815   \n",
            "..            ...                 ...                  ...              ...   \n",
            "501         142.6               8.680                8.775            8.620   \n",
            "502         150.2               8.780                8.945            8.770   \n",
            "503         164.5               8.830                8.970            8.855   \n",
            "504         162.8               8.730                8.845            8.800   \n",
            "505         154.3               8.640                8.880            8.680   \n",
            "\n",
            "     Producer_rating  Critic_rating  Trailer_views 3D_available  Time_taken  \\\n",
            "0              7.995           7.94         527367          YES      109.60   \n",
            "1              7.470           7.44         494055           NO      146.64   \n",
            "2              7.515           7.44         547051           NO      147.88   \n",
            "3              7.020           8.26         516279          YES      185.36   \n",
            "4              7.070           8.26         531448           NO      176.48   \n",
            "..               ...            ...            ...          ...         ...   \n",
            "501            8.970           6.80         492480           NO      186.96   \n",
            "502            8.930           7.80         482875          YES      132.24   \n",
            "503            9.010           7.80         532239           NO      109.56   \n",
            "504            8.845           6.80         496077          YES      158.80   \n",
            "505            8.790           6.80         518438          YES      205.60   \n",
            "\n",
            "     Twitter_hastags     Genre  Avg_age_actors  Num_multiplex  Collection  \\\n",
            "0            223.840  Thriller              23            494       48000   \n",
            "1            243.456     Drama              42            462       43200   \n",
            "2           2022.400    Comedy              38            458       69400   \n",
            "3            225.344     Drama              45            472       66800   \n",
            "4            225.792     Drama              55            395       72400   \n",
            "..               ...       ...             ...            ...         ...   \n",
            "501          243.584    Action              27            561       44800   \n",
            "502          263.296    Action              20            600       41200   \n",
            "503          243.824    Comedy              31            576       47800   \n",
            "504          303.520    Comedy              47            607       44000   \n",
            "505          203.040    Comedy              45            604       38000   \n",
            "\n",
            "     Start_Tech_Oscar  \n",
            "0                   1  \n",
            "1                   0  \n",
            "2                   1  \n",
            "3                   1  \n",
            "4                   1  \n",
            "..                ...  \n",
            "501                 0  \n",
            "502                 0  \n",
            "503                 0  \n",
            "504                 0  \n",
            "505                 0  \n",
            "\n",
            "[506 rows x 19 columns]\n"
          ]
        }
      ],
      "source": [
        "import pandas as pd\n",
        "\n",
        "# Membaca File CSV\n",
        "df = pd.read_csv('Movie_Classification.csv')\n",
        "\n",
        "# Menampilkan Data Nilai Ujian Mahasiswa\n",
        "print(df)"
      ]
    },
    {
      "cell_type": "markdown",
      "metadata": {
        "id": "eedlHTqw1_D-"
      },
      "source": [
        "1 . Cek duplikat\n",
        "\n"
      ]
    },
    {
      "cell_type": "code",
      "execution_count": 9,
      "metadata": {
        "colab": {
          "base_uri": "https://localhost:8080/"
        },
        "id": "Ac8Sdfl9ypjz",
        "outputId": "9a62e23b-7074-467a-ee67-2c42c4a1f2b5"
      },
      "outputs": [
        {
          "name": "stdout",
          "output_type": "stream",
          "text": [
            "Tidak ada file yang terdeteksi duplikat pada Movie_Classification.csv\n"
          ]
        }
      ],
      "source": [
        "import pandas as pd\n",
        "\n",
        "def cek_duplikat(file_csv):\n",
        "    try:\n",
        "        # Baca file CSV\n",
        "        df = pd.read_csv(file_csv)\n",
        "\n",
        "        # Cek ada duplikat atau tidak\n",
        "        duplikat = df.duplicated().any()\n",
        "\n",
        "        if duplikat:\n",
        "            print(f\"Duplikat ditemuakan {file_csv}\")\n",
        "        else:\n",
        "            print(f\"Tidak ada file yang terdeteksi duplikat pada {file_csv}\")\n",
        "\n",
        "    except FileNotFoundError:\n",
        "        print(f\"File {file_csv} tidak ditemukan\")\n",
        "\n",
        "    except pd.errors.EmptyDataError:\n",
        "        print(f\"File {file_csv} kosong\")\n",
        "\n",
        "cek_duplikat('Movie_Classification.csv')"
      ]
    },
    {
      "cell_type": "markdown",
      "metadata": {
        "id": "2pCMwKlQ2N7v"
      },
      "source": [
        "2.  Menemukan null values"
      ]
    },
    {
      "cell_type": "code",
      "execution_count": 8,
      "metadata": {
        "colab": {
          "base_uri": "https://localhost:8080/"
        },
        "id": "jRNMa3tzzB7g",
        "outputId": "2cd1b54f-68f9-4d35-f2b3-6fa5e7f067a4"
      },
      "outputs": [
        {
          "name": "stdout",
          "output_type": "stream",
          "text": [
            "Jumlah nilai null pada setiap kolom:\n",
            "Time_taken    12\n",
            "dtype: int64\n"
          ]
        }
      ],
      "source": [
        "import pandas as pd\n",
        "\n",
        "def cek_null_values(file_csv):\n",
        "    try:\n",
        "        # Baca file CSV\n",
        "        df = pd.read_csv(file_csv)\n",
        "\n",
        "        # Cek nilai null\n",
        "        null_values = df.isnull().sum()\n",
        "\n",
        "        # Tampilkan hasil\n",
        "        if null_values.any():\n",
        "            print(\"Jumlah nilai null pada setiap kolom:\")\n",
        "            print(null_values[null_values > 0])\n",
        "        else:\n",
        "            print(f\"Tidak ada nilai null pada file {file_csv}\")\n",
        "\n",
        "    except FileNotFoundError:\n",
        "        print(f\"File {file_csv} tidak ditemukan\")\n",
        "\n",
        "    except pd.errors.EmptyDataError:\n",
        "        print(f\"File {file_csv} kosong\")\n",
        "\n",
        "cek_null_values('Movie_Classification.csv')"
      ]
    },
    {
      "cell_type": "markdown",
      "metadata": {
        "id": "1kjoFLr12UjI"
      },
      "source": [
        "3. Drop missing value"
      ]
    },
    {
      "cell_type": "code",
      "execution_count": 7,
      "metadata": {
        "colab": {
          "base_uri": "https://localhost:8080/"
        },
        "id": "wZtRwpZoy0QS",
        "outputId": "ee8c7e8f-c1d0-4c06-8da1-915aebefdd2a"
      },
      "outputs": [
        {
          "name": "stdout",
          "output_type": "stream",
          "text": [
            "Nilai null berhasil dihapus dan disimpan ke data_cleaned.csv\n"
          ]
        }
      ],
      "source": [
        "import pandas as pd\n",
        "\n",
        "def drop_null_values(file_csv, output_file):\n",
        "    try:\n",
        "        # Baca file CSV\n",
        "        df = pd.read_csv(file_csv)\n",
        "\n",
        "        # Hapus nilai null\n",
        "        df_cleaned = df.dropna()\n",
        "\n",
        "        # Simpan hasil ke dalam file baru\n",
        "        df_cleaned.to_csv(output_file, index=False)\n",
        "\n",
        "        print(f\"Nilai null berhasil dihapus dan disimpan ke {output_file}\")\n",
        "\n",
        "    except FileNotFoundError:\n",
        "        print(f\"File {file_csv} tidak ditemukan\")\n",
        "\n",
        "    except pd.errors.EmptyDataError:\n",
        "        print(f\"File {file_csv} kosong\")\n",
        "\n",
        "drop_null_values('Movie_Classification.csv', 'data_cleaned.csv')"
      ]
    },
    {
      "cell_type": "markdown",
      "metadata": {
        "id": "lwYwDETs4gJ6"
      },
      "source": [
        "Data yang sudah di hapus null nya"
      ]
    },
    {
      "cell_type": "code",
      "execution_count": 10,
      "metadata": {
        "colab": {
          "base_uri": "https://localhost:8080/"
        },
        "id": "LCG5sCpz1L9F",
        "outputId": "3c01cbff-e8e9-4b19-dfb1-3b483604d8bb"
      },
      "outputs": [
        {
          "name": "stdout",
          "output_type": "stream",
          "text": [
            "     Marketing expense  Production expense  Multiplex coverage     Budget  \\\n",
            "0              20.1264               59.62               0.462  36524.125   \n",
            "1              20.5462               69.14               0.531  35668.655   \n",
            "2              20.5458               69.14               0.531  39912.675   \n",
            "3              20.6474               59.36               0.542  38873.890   \n",
            "4              21.3810               59.36               0.542  39701.585   \n",
            "..                 ...                 ...                 ...        ...   \n",
            "489            21.2526               78.86               0.427  36624.115   \n",
            "490            20.9054               78.86               0.427  33996.600   \n",
            "491            21.2152               78.86               0.427  38751.680   \n",
            "492            22.1918               78.86               0.427  37740.670   \n",
            "493            20.9482               78.86               0.427  33496.650   \n",
            "\n",
            "     Movie_length  Lead_ Actor_Rating  Lead_Actress_rating  Director_rating  \\\n",
            "0           138.7               7.825                8.095            7.910   \n",
            "1           152.4               7.505                7.650            7.440   \n",
            "2           134.6               7.485                7.570            7.495   \n",
            "3           119.3               6.895                7.035            6.920   \n",
            "4           127.7               6.920                7.070            6.815   \n",
            "..            ...                 ...                  ...              ...   \n",
            "489         142.6               8.680                8.775            8.620   \n",
            "490         150.2               8.780                8.945            8.770   \n",
            "491         164.5               8.830                8.970            8.855   \n",
            "492         162.8               8.730                8.845            8.800   \n",
            "493         154.3               8.640                8.880            8.680   \n",
            "\n",
            "     Producer_rating  Critic_rating  Trailer_views 3D_available  Time_taken  \\\n",
            "0              7.995           7.94         527367          YES      109.60   \n",
            "1              7.470           7.44         494055           NO      146.64   \n",
            "2              7.515           7.44         547051           NO      147.88   \n",
            "3              7.020           8.26         516279          YES      185.36   \n",
            "4              7.070           8.26         531448           NO      176.48   \n",
            "..               ...            ...            ...          ...         ...   \n",
            "489            8.970           6.80         492480           NO      186.96   \n",
            "490            8.930           7.80         482875          YES      132.24   \n",
            "491            9.010           7.80         532239           NO      109.56   \n",
            "492            8.845           6.80         496077          YES      158.80   \n",
            "493            8.790           6.80         518438          YES      205.60   \n",
            "\n",
            "     Twitter_hastags     Genre  Avg_age_actors  Num_multiplex  Collection  \\\n",
            "0            223.840  Thriller              23            494       48000   \n",
            "1            243.456     Drama              42            462       43200   \n",
            "2           2022.400    Comedy              38            458       69400   \n",
            "3            225.344     Drama              45            472       66800   \n",
            "4            225.792     Drama              55            395       72400   \n",
            "..               ...       ...             ...            ...         ...   \n",
            "489          243.584    Action              27            561       44800   \n",
            "490          263.296    Action              20            600       41200   \n",
            "491          243.824    Comedy              31            576       47800   \n",
            "492          303.520    Comedy              47            607       44000   \n",
            "493          203.040    Comedy              45            604       38000   \n",
            "\n",
            "     Start_Tech_Oscar  \n",
            "0                   1  \n",
            "1                   0  \n",
            "2                   1  \n",
            "3                   1  \n",
            "4                   1  \n",
            "..                ...  \n",
            "489                 0  \n",
            "490                 0  \n",
            "491                 0  \n",
            "492                 0  \n",
            "493                 0  \n",
            "\n",
            "[494 rows x 19 columns]\n"
          ]
        }
      ],
      "source": [
        "import pandas as pd\n",
        "\n",
        "# Membaca File CSV\n",
        "df = pd.read_csv('data_cleaned.csv')\n",
        "\n",
        "# Menampilkan Data Nilai Ujian Mahasiswa\n",
        "print(df)"
      ]
    }
  ],
  "metadata": {
    "colab": {
      "provenance": []
    },
    "kernelspec": {
      "display_name": "Python 3",
      "name": "python3"
    },
    "language_info": {
      "name": "python"
    }
  },
  "nbformat": 4,
  "nbformat_minor": 0
}
