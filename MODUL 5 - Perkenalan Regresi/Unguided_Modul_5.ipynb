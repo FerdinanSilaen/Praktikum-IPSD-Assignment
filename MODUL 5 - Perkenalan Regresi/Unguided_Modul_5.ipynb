{
  "nbformat": 4,
  "nbformat_minor": 0,
  "metadata": {
    "colab": {
      "provenance": []
    },
    "kernelspec": {
      "name": "python3",
      "display_name": "Python 3"
    },
    "language_info": {
      "name": "python"
    }
  },
  "cells": [
    {
      "cell_type": "code",
      "execution_count": 27,
      "metadata": {
        "id": "ZvlwtyvOvvvG"
      },
      "outputs": [],
      "source": [
        "from sklearn.datasets import load_diabetes  # Import dataset diabetes dari sklearn\n",
        "from sklearn.linear_model import LinearRegression, Lasso, Ridge  # Import model regresi\n",
        "from sklearn.model_selection import train_test_split  # Import fungsi untuk membagi data latih dan uji\n",
        "from sklearn.metrics import mean_squared_error, r2_score  # Import metrik evaluasi model"
      ]
    },
    {
      "cell_type": "markdown",
      "source": [
        "Kode tersebut bertujuan untuk mengimpor dataset diabetes dari sklearn dan mengimpor model regresi linear serta beberapa metrik untuk mengukur model, yakni mean_squared_error dan r2_score."
      ],
      "metadata": {
        "id": "l3ehMbGCyCJu"
      }
    },
    {
      "cell_type": "code",
      "source": [
        "# Memuat dataset diabetes\n",
        "x, y = load_diabetes(return_X_y=True)  # x adalah fitur, y adalah target"
      ],
      "metadata": {
        "id": "B4Y7x5ILwV5q"
      },
      "execution_count": 28,
      "outputs": []
    },
    {
      "cell_type": "markdown",
      "source": [
        "Fungsi load_diabetes memuat dataset diabetes, di mana x adalah variabel input (fitur) dan y adalah variabel target yang ingin diprediksi."
      ],
      "metadata": {
        "id": "HZ2VXxs2zG8m"
      }
    },
    {
      "cell_type": "code",
      "source": [
        "# Inisialisasi model Linear Regression\n",
        "lr = LinearRegression()"
      ],
      "metadata": {
        "id": "UoJRd4G5wfIW"
      },
      "execution_count": 29,
      "outputs": []
    },
    {
      "cell_type": "markdown",
      "source": [
        "Kode ini digunakan untuk menginisialisasi model Linear Regression."
      ],
      "metadata": {
        "id": "WYBLiQHcza39"
      }
    },
    {
      "cell_type": "code",
      "source": [
        "len(load_diabetes()['feature_names'])  # Menghitung jumlah fitur dalam dataset diabetes"
      ],
      "metadata": {
        "colab": {
          "base_uri": "https://localhost:8080/"
        },
        "id": "W9lrEz0_wiK9",
        "outputId": "0b729fb9-8598-4f3c-8a11-f3b4681eb4a1"
      },
      "execution_count": 30,
      "outputs": [
        {
          "output_type": "execute_result",
          "data": {
            "text/plain": [
              "10"
            ]
          },
          "metadata": {},
          "execution_count": 30
        }
      ]
    },
    {
      "cell_type": "markdown",
      "source": [
        "Kode ini untuk menghitung jumlah fitur atau variabel input yang ada di dalam dataset diabetes."
      ],
      "metadata": {
        "id": "KtVQoV8f0Tse"
      }
    },
    {
      "cell_type": "code",
      "source": [
        "# Melatih model dengan seluruh data (tanpa split)\n",
        "lr.fit(x, y)  # Melatih model pada data x dan y\n",
        "y_pred = lr.predict(x)  # Prediksi nilai y berdasarkan data x"
      ],
      "metadata": {
        "id": "GFey2vNGwl4V"
      },
      "execution_count": 31,
      "outputs": []
    },
    {
      "cell_type": "markdown",
      "source": [
        "Fungsi fit() melatih model pada seluruh data yang ada, di mana x merupakan fitur (variabel input) dan y adalah target (variabel output). Setelah model dilatih, fungsi predict() digunakan untuk membuat prediksi target (y_pred) berdasarkan data input x yang sama"
      ],
      "metadata": {
        "id": "MTiy-KoY08N4"
      }
    },
    {
      "cell_type": "code",
      "source": [
        "# Menghitung dan menampilkan R² Score pada seluruh data\n",
        "print(r2_score(y, y_pred))  # Menampilkan nilai R² Score, mengukur seberapa baik model menjelaskan variabel target\n"
      ],
      "metadata": {
        "colab": {
          "base_uri": "https://localhost:8080/"
        },
        "id": "WDlYWwYAwrBY",
        "outputId": "8efd818e-1874-4555-cbaa-516a990d7f36"
      },
      "execution_count": 32,
      "outputs": [
        {
          "output_type": "stream",
          "name": "stdout",
          "text": [
            "0.5177484222203499\n"
          ]
        }
      ]
    },
    {
      "cell_type": "markdown",
      "source": [
        "Menampilakan nilai R² Score. Nilai ini  berdasarkan hasil prediksi (y_pred) dibandingkan dengan nilai sebenarnya (y)."
      ],
      "metadata": {
        "id": "P7D8FDHW1RZ5"
      }
    },
    {
      "cell_type": "code",
      "source": [
        "# Menghitung dan menampilkan Mean Squared Error pada seluruh data\n",
        "print(mean_squared_error(y, y_pred))  # Menampilkan nilai MSE, mengukur rata-rata kuadrat kesalahan"
      ],
      "metadata": {
        "colab": {
          "base_uri": "https://localhost:8080/"
        },
        "id": "Im2bl8W6wrlK",
        "outputId": "91570ff1-1247-45bd-cbd4-2c4bb0e790b3"
      },
      "execution_count": 33,
      "outputs": [
        {
          "output_type": "stream",
          "name": "stdout",
          "text": [
            "2859.69634758675\n"
          ]
        }
      ]
    },
    {
      "cell_type": "markdown",
      "source": [
        "Menampilkan MSE (Mean Squared Error).  Niali ini berdasarkan hasil prediksi (y_pred) dibandingkan dengan nilai sebenarnya (y)"
      ],
      "metadata": {
        "id": "tJFEzBMY1oCO"
      }
    },
    {
      "cell_type": "code",
      "source": [
        "# Membagi data menjadi data latih dan data uji\n",
        "from sklearn.model_selection import train_test_split\n",
        "x_train, x_test, y_train, y_test = train_test_split(x, y, test_size=0.2, random_state=42)  # 80% data latih, 20% data uji\n"
      ],
      "metadata": {
        "id": "gsmUo5rrwuKu"
      },
      "execution_count": 34,
      "outputs": []
    },
    {
      "cell_type": "markdown",
      "source": [
        "Kode ini membagi data menjadi 80% data latih (x_train dan y_train) dan 20% data uji (x_test dan y_test), menggunakan parameter random_state=42 agar hasil pembagian konsisten setiap kali dijalankan."
      ],
      "metadata": {
        "id": "EQrFK-bE2cML"
      }
    },
    {
      "cell_type": "code",
      "source": [
        "# Melatih ulang model pada data latih\n",
        "lr = LinearRegression()  # Inisialisasi ulang model Linear Regression\n",
        "lr.fit(x_train, y_train)  # Melatih model pada data latih (x_train, y_train)\n",
        "y_pred = lr.predict(x_test) # Memprediksi nilai target untuk data uji (x_test)\n",
        "print(r2_score(y_test, y_pred))  # Menampilkan R² Score pada data uji\n",
        "print(mean_squared_error(y_test, y_pred))  # Menampilkan MSE pada data uji"
      ],
      "metadata": {
        "colab": {
          "base_uri": "https://localhost:8080/"
        },
        "id": "UsvHIOotwwgr",
        "outputId": "ff26dabc-5a1a-4487-a96e-a29f64e06416"
      },
      "execution_count": 38,
      "outputs": [
        {
          "output_type": "stream",
          "name": "stdout",
          "text": [
            "0.4526027629719195\n",
            "2900.193628493482\n"
          ]
        }
      ]
    },
    {
      "cell_type": "markdown",
      "source": [
        "Model dilatih ulang pada data latih (80% dari dataset) untuk mencegah overfitting, yaitu kondisi di mana model terlalu menyesuaikan pada data. Kemudian, performanya diuji pada data uji (20%) menggunakan dua metrik:\n",
        "\n",
        "*   R² Score: Mengukur seberapa baik variabel input menjelaskan variabel target; semakin mendekati 1, semakin baik.\n",
        "*   Mean Squared Error (MSE): Mengukur rata-rata kesalahan kuadrat antara prediksi dan nilai aktual; semakin kecil, semakin akurat."
      ],
      "metadata": {
        "id": "fiJ9pe5S3d8U"
      }
    }
  ]
}